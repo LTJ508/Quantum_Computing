{
 "cells": [
  {
   "cell_type": "markdown",
   "metadata": {},
   "source": [
    "# <font color=\"red\">CSE499A - Assignment 01</font>"
   ]
  },
  {
   "cell_type": "markdown",
   "metadata": {},
   "source": [
    "## Joy Kumar Ghosh - 2211424642\n",
    "Section-17"
   ]
  },
  {
   "cell_type": "markdown",
   "metadata": {},
   "source": [
    "### Install & Import Library"
   ]
  },
  {
   "cell_type": "code",
   "execution_count": null,
   "metadata": {},
   "outputs": [],
   "source": [
    "%pip install qiskit\n",
    "%pip install pylatexenc\n",
    "%pip install qiskit-aer\n",
    "%pip install qiskit-ibm-runtime"
   ]
  },
  {
   "cell_type": "code",
   "execution_count": 1,
   "metadata": {},
   "outputs": [],
   "source": [
    "from qiskit import *\n",
    "from qiskit import QuantumCircuit\n",
    "from qiskit.visualization import plot_state_qsphere, plot_histogram, plot_bloch_multivector, array_to_latex\n",
    "from qiskit_aer import AerSimulator\n",
    "from qiskit_ibm_runtime import QiskitRuntimeService, SamplerV2 as Sampler\n",
    "from qiskit.quantum_info import Operator\n",
    "from qiskit.transpiler.preset_passmanagers import generate_preset_pass_manager\n",
    "from math import sqrt\n",
    "import random\n",
    "from collections import Counter\n",
    "import time"
   ]
  },
  {
   "cell_type": "code",
   "execution_count": 2,
   "metadata": {},
   "outputs": [],
   "source": [
    "QiskitRuntimeService.save_account(channel=\"ibm_quantum\",\n",
    "                                  token=\"11318f27c420947d9fcc114bdf0dc0103873ca807db5e77f68463decf6fef341ea99779afdbf5c13cc9d87c68cffb3c8011cb4a1a1165f10d62f87eaee3cee4f\",\n",
    "                                  overwrite=True,\n",
    "                                  set_as_default=True)"
   ]
  },
  {
   "cell_type": "markdown",
   "metadata": {},
   "source": [
    "## Question - 01\n",
    "Build a 1-qubit circuit and initialize its state in superposition without using any gate. Qubits must be in different relative phases.\\\n",
    "Implement proper state vector visualization technique.\\\n",
    "Explain your understanding in detail."
   ]
  },
  {
   "cell_type": "markdown",
   "metadata": {},
   "source": [
    "### Construct the Circuit"
   ]
  },
  {
   "cell_type": "code",
   "execution_count": null,
   "metadata": {},
   "outputs": [],
   "source": [
    "circuit = QuantumCircuit(1)\n",
    "\n",
    "# probablity of a superposition state\n",
    "probabilities = (1/sqrt(2), 1/sqrt(2))\n",
    "\n",
    "# initializing circuit with probablity amplitudes\n",
    "circuit.initialize(probabilities, 0)\n",
    "\n",
    "circuit.draw('mpl')"
   ]
  },
  {
   "cell_type": "markdown",
   "metadata": {},
   "source": [
    "### Run on Simulator for geting the state vector and qsphere"
   ]
  },
  {
   "cell_type": "code",
   "execution_count": null,
   "metadata": {},
   "outputs": [],
   "source": [
    "simulator = AerSimulator()\n",
    "circuit.save_statevector()\n",
    "job = simulator.run(circuit)\n",
    "result = job.result()"
   ]
  },
  {
   "cell_type": "markdown",
   "metadata": {},
   "source": [
    "### Visualize Satte Vector"
   ]
  },
  {
   "cell_type": "code",
   "execution_count": null,
   "metadata": {},
   "outputs": [],
   "source": [
    "final_state = result.get_statevector()\n",
    "plot_bloch_multivector(final_state)"
   ]
  },
  {
   "cell_type": "markdown",
   "metadata": {},
   "source": [
    "=> State is now on the X axis, means it is in superposition state"
   ]
  },
  {
   "cell_type": "markdown",
   "metadata": {},
   "source": [
    "### Visualize in Quantum Sphere"
   ]
  },
  {
   "cell_type": "code",
   "execution_count": null,
   "metadata": {},
   "outputs": [],
   "source": [
    "plot_state_qsphere(final_state)"
   ]
  },
  {
   "cell_type": "markdown",
   "metadata": {},
   "source": [
    "=> Understanding:\\\n",
    "In superposition, state can be in both state |0> or |1> at the same time. When we measure, state collaps and provide us any one outcome. In Superposition, probablities of outcome for 0 and 1 is the same."
   ]
  },
  {
   "cell_type": "markdown",
   "metadata": {},
   "source": [
    "## Question - 02\n",
    "You have to create a circuit with the gates CCX, H, SX (√X gate) in such a way that\\\n",
    "you always have roughly  ¼ probability to get state |1> from the target qubit of CCX.\\\n",
    "Create a new Unitary gate with the above mentioned gates according to your implementation and apply to the circuit.\\\n",
    "Now, alter the circuit with Y basis measurement and explain the differences in outcome briefly."
   ]
  },
  {
   "cell_type": "markdown",
   "metadata": {},
   "source": [
    "### Constructing circuit"
   ]
  },
  {
   "cell_type": "code",
   "execution_count": null,
   "metadata": {},
   "outputs": [],
   "source": [
    "circuit = QuantumCircuit(3, 1)\n",
    "\n",
    "circuit.h(0)\n",
    "circuit.sx(1)\n",
    "circuit.ccx(0, 1, 2)\n",
    "\n",
    "circuit.measure(2, 0)\n",
    "\n",
    "circuit.draw('mpl')"
   ]
  },
  {
   "cell_type": "markdown",
   "metadata": {},
   "source": [
    "### Testing on Simulator, outcome State 1 from the target qubit will be near 25%"
   ]
  },
  {
   "cell_type": "code",
   "execution_count": null,
   "metadata": {},
   "outputs": [],
   "source": [
    "job = AerSimulator().run(circuit, shots=1000)\n",
    "result = job.result()\n",
    "counts = result.get_counts()\n",
    "plot_histogram(counts)"
   ]
  },
  {
   "cell_type": "markdown",
   "metadata": {},
   "source": [
    "=> Outcome from the target qubit is nearly 25%, so the circuit construction is complete"
   ]
  },
  {
   "cell_type": "markdown",
   "metadata": {},
   "source": [
    "### Extracting the gate sequence in as a custom Unitary Gate"
   ]
  },
  {
   "cell_type": "code",
   "execution_count": null,
   "metadata": {},
   "outputs": [],
   "source": [
    "circuit = QuantumCircuit(3)\n",
    "\n",
    "circuit.h(0)\n",
    "circuit.sx(1)\n",
    "circuit.ccx(0, 1, 2)\n",
    "\n",
    "custom_gate = circuit.to_gate(label=\"CustomUnitary\")"
   ]
  },
  {
   "cell_type": "markdown",
   "metadata": {},
   "source": [
    "### Creating another circuit with the Custom Gate for testing"
   ]
  },
  {
   "cell_type": "code",
   "execution_count": null,
   "metadata": {},
   "outputs": [],
   "source": [
    "circuit = QuantumCircuit(3, 1)\n",
    "circuit.append(custom_gate, [0, 1, 2])\n",
    "\n",
    "circuit.measure(2, 0)\n",
    "\n",
    "circuit.draw('mpl')"
   ]
  },
  {
   "cell_type": "code",
   "execution_count": null,
   "metadata": {},
   "outputs": [],
   "source": [
    "simulator = AerSimulator()\n",
    "pass_manager = generate_preset_pass_manager(optimization_level=3, backend=simulator)\n",
    "isa_circuit = pass_manager.run(circuit)\n",
    "job = simulator.run(isa_circuit, shots=1000)\n",
    "result = job.result()\n",
    "counts = result.get_counts()\n",
    "plot_histogram(counts)"
   ]
  },
  {
   "cell_type": "markdown",
   "metadata": {},
   "source": [
    "=> Outcome from the target qubit is nearly 25%, so circuit is working according to the instruction."
   ]
  },
  {
   "cell_type": "markdown",
   "metadata": {},
   "source": [
    "### Y - basis Measurement"
   ]
  },
  {
   "cell_type": "code",
   "execution_count": null,
   "metadata": {},
   "outputs": [],
   "source": [
    "circuit = QuantumCircuit(3, 1)\n",
    "circuit.append(custom_gate, [0, 1, 2])\n",
    "\n",
    "# preaparing for y basis measurement\n",
    "circuit.sdg(2)\n",
    "circuit.h(2)\n",
    "circuit.measure(2, 0)\n",
    "\n",
    "circuit.draw('mpl')"
   ]
  },
  {
   "cell_type": "code",
   "execution_count": null,
   "metadata": {},
   "outputs": [],
   "source": [
    "simulator = AerSimulator()\n",
    "pass_manager = generate_preset_pass_manager(optimization_level=3, backend=simulator)\n",
    "isa_circuit = pass_manager.run(circuit)\n",
    "job = simulator.run(isa_circuit, shots=1000)\n",
    "result = job.result()\n",
    "counts = result.get_counts()\n",
    "plot_histogram(counts)"
   ]
  },
  {
   "cell_type": "markdown",
   "metadata": {},
   "source": [
    "=> We initialize the circuit on z basis. But here we are measuring the circuit on y basis. According to the Heisenberg Uncertainty Principle, if we initialize the circuit in a basis and measure on the other basis, the outcome will be uncertain.\\\n",
    "Here, we initialize the circuit as the outcome for 1 should be nearly 25% but we get around 50%, because of this uncertainty principle."
   ]
  },
  {
   "cell_type": "markdown",
   "metadata": {},
   "source": [
    "## Question - 03\n",
    "Calculate the unitary for the circuit (both Z and Y basis measurement) created in problem 2.\\\n",
    "Explain the differences in outcome and your understanding briefly."
   ]
  },
  {
   "cell_type": "markdown",
   "metadata": {},
   "source": [
    "### Unitary Matrix for Z Basis"
   ]
  },
  {
   "cell_type": "code",
   "execution_count": null,
   "metadata": {},
   "outputs": [],
   "source": [
    "circuit = QuantumCircuit(3)\n",
    "\n",
    "circuit.h(0)\n",
    "circuit.sx(1)\n",
    "circuit.ccx(0, 1, 2)\n",
    "\n",
    "unitary = Operator(circuit).data\n",
    "print(\"Unitary matrix for the circuit:\")\n",
    "array_to_latex(unitary)"
   ]
  },
  {
   "cell_type": "markdown",
   "metadata": {},
   "source": [
    "### Unitary Matrix for Y Basis"
   ]
  },
  {
   "cell_type": "code",
   "execution_count": null,
   "metadata": {},
   "outputs": [],
   "source": [
    "circuit = QuantumCircuit(3)\n",
    "\n",
    "circuit.h(0)\n",
    "circuit.sx(1)\n",
    "circuit.ccx(0, 1, 2)\n",
    "\n",
    "circuit.sdg([0, 1, 2])\n",
    "circuit.h([0, 1, 2])\n",
    "\n",
    "unitary = Operator(circuit).data\n",
    "print(\"Unitary matrix for the circuit:\")\n",
    "array_to_latex(unitary)"
   ]
  },
  {
   "cell_type": "markdown",
   "metadata": {},
   "source": [
    "## Question - 04\n",
    "Create an entanglement circuit with H, CX gate and apply measurement.\\\n",
    "Run on both a simulator and real quantum device.\\\n",
    "Use proper error mitigation techniques for the real backend (level 1 or level 2).\\\n",
    "Compare the results you obtained by plotting histograms.\\\n",
    "Explain your understanding in detail."
   ]
  },
  {
   "cell_type": "markdown",
   "metadata": {},
   "source": [
    "### Entanglement Circuit"
   ]
  },
  {
   "cell_type": "code",
   "execution_count": null,
   "metadata": {},
   "outputs": [],
   "source": [
    "circuit = QuantumCircuit(2)\n",
    "\n",
    "circuit.h(0)\n",
    "circuit.cx(0, 1)\n",
    "\n",
    "circuit.measure_all()\n",
    "\n",
    "circuit.draw(\"mpl\")"
   ]
  },
  {
   "cell_type": "markdown",
   "metadata": {},
   "source": [
    "### Run on Simulator"
   ]
  },
  {
   "cell_type": "code",
   "execution_count": null,
   "metadata": {},
   "outputs": [],
   "source": [
    "simulator = AerSimulator()\n",
    "pass_manager = generate_preset_pass_manager(optimization_level=3, backend=simulator)\n",
    "isa_circuit = pass_manager.run(circuit)\n",
    "job = simulator.run(isa_circuit, shots=1000)\n",
    "result = job.result()\n",
    "counts = result.get_counts()\n",
    "plot_histogram(counts)"
   ]
  },
  {
   "cell_type": "markdown",
   "metadata": {},
   "source": [
    "=> As we construct an Entanglement circuit using 2 qubit, the outcome will be same for both qubit, either 00 or 11."
   ]
  },
  {
   "cell_type": "markdown",
   "metadata": {},
   "source": [
    "### Run on Real Devices"
   ]
  },
  {
   "cell_type": "code",
   "execution_count": null,
   "metadata": {},
   "outputs": [],
   "source": [
    "service = QiskitRuntimeService()\n",
    "backend = service.least_busy(simulator=False, operational=True, min_num_qubits=100)\n",
    "pass_manager = generate_preset_pass_manager(optimization_level=3, backend=backend)\n",
    "isa_circuit = pass_manager.run(circuit)\n",
    "isa_circuit.draw(\"mpl\", idle_wires=False)"
   ]
  },
  {
   "cell_type": "code",
   "execution_count": null,
   "metadata": {},
   "outputs": [],
   "source": [
    "sampler = Sampler(backend)\n",
    "job = sampler.run([isa_circuit], shots=1000)\n",
    "result = job.result()\n",
    "result_real = result[0]"
   ]
  },
  {
   "cell_type": "code",
   "execution_count": null,
   "metadata": {},
   "outputs": [],
   "source": [
    "counts_real = result_real.data.meas.get_counts()\n",
    "plot_histogram(counts_real)"
   ]
  },
  {
   "cell_type": "markdown",
   "metadata": {},
   "source": [
    "=> as we know real device have some noise and error, thats why we are getting some output like 01 and 10, but the amount is very low. For these error, we need to run our circuit multiple time and consider the output of which sequence is higher than others."
   ]
  },
  {
   "cell_type": "markdown",
   "metadata": {},
   "source": [
    "### Applying Error Mitigration Technique"
   ]
  },
  {
   "cell_type": "code",
   "execution_count": null,
   "metadata": {},
   "outputs": [],
   "source": [
    "from calibration import complete_meas_cal, CompleteMeasFitter"
   ]
  },
  {
   "cell_type": "code",
   "execution_count": null,
   "metadata": {},
   "outputs": [],
   "source": [
    "qr = QuantumRegister(2)\n",
    "meas_calibs, state_labels = complete_meas_cal(qr=qr, circlabel='mcal')"
   ]
  },
  {
   "cell_type": "code",
   "execution_count": null,
   "metadata": {},
   "outputs": [],
   "source": [
    "for circuit in meas_calibs:\n",
    "  print('Circuit', circuit.name)\n",
    "  print(circuit)\n",
    "  print()"
   ]
  },
  {
   "cell_type": "code",
   "execution_count": null,
   "metadata": {},
   "outputs": [],
   "source": [
    "service = QiskitRuntimeService()\n",
    "backend = service.least_busy(simulator=False, operational=True, min_num_qubits=100)\n",
    "pass_manager = generate_preset_pass_manager(optimization_level=3, backend=backend)\n",
    "isa_circuit = pass_manager.run(meas_calibs)"
   ]
  },
  {
   "cell_type": "code",
   "execution_count": null,
   "metadata": {},
   "outputs": [],
   "source": [
    "isa_circuit[0].draw(\"mpl\", idle_wires=False)"
   ]
  },
  {
   "cell_type": "code",
   "execution_count": null,
   "metadata": {},
   "outputs": [],
   "source": [
    "isa_circuit[1].draw(\"mpl\", idle_wires=False)"
   ]
  },
  {
   "cell_type": "code",
   "execution_count": null,
   "metadata": {},
   "outputs": [],
   "source": [
    "isa_circuit[2].draw(\"mpl\", idle_wires=False)"
   ]
  },
  {
   "cell_type": "code",
   "execution_count": null,
   "metadata": {},
   "outputs": [],
   "source": [
    "isa_circuit[3].draw(\"mpl\", idle_wires=False)"
   ]
  },
  {
   "cell_type": "code",
   "execution_count": null,
   "metadata": {},
   "outputs": [],
   "source": [
    "sampler = Sampler(backend)\n",
    "job = backend.run(isa_circuit, shots=1000)\n",
    "\n",
    "while job.status() != 'DONE':\n",
    "    print(f\"Job Status: {job.status()}\")\n",
    "    time.sleep(10)  # Check status every 10 seconds\n",
    "\n",
    "result = job.result()\n",
    "#cal_result = result[0]"
   ]
  },
  {
   "cell_type": "markdown",
   "metadata": {},
   "source": [
    "simulator = AerSimulator()\n",
    "pass_manager = generate_preset_pass_manager(optimization_level=3, backend=simulator)\n",
    "isa_circuit = pass_manager.run(meas_calibs)\n",
    "job = simulator.run(isa_circuit, shots=1000, noise_model=noise_model)\n",
    "cal_result = job.result()"
   ]
  },
  {
   "cell_type": "markdown",
   "metadata": {},
   "source": [
    "### Retrive Job"
   ]
  },
  {
   "cell_type": "code",
   "execution_count": 3,
   "metadata": {},
   "outputs": [
    {
     "data": {
      "text/plain": [
       "[<RuntimeJob('cwy43x7tdtng0087m7k0', 'circuit-runner')>,\n",
       " <RuntimeJob('cwxtzv7tdtng0087jffg', 'sampler')>,\n",
       " <RuntimeJob('cwxtyrkehebg008jn490', 'sampler')>,\n",
       " <RuntimeJob('cwxt4h22ac5g008jjv30', 'sampler')>,\n",
       " <RuntimeJob('cwxq2kj2ac5g008jj7dg', 'sampler')>,\n",
       " <RuntimeJob('cwxpzxq60bqg008pwhw0', 'sampler')>,\n",
       " <RuntimeJob('cwxpy5r997wg008y39s0', 'sampler')>,\n",
       " <RuntimeJob('cwxpx14tdtng0087hmc0', 'sampler')>,\n",
       " <RuntimeJob('cwxpvzq2ac5g008jj630', 'sampler')>,\n",
       " <RuntimeJob('cwxpsjetdtng0087hm0g', 'sampler')>]"
      ]
     },
     "execution_count": 3,
     "metadata": {},
     "output_type": "execute_result"
    }
   ],
   "source": [
    "import datetime\n",
    "three_months_ago = datetime.datetime.now() - datetime.timedelta(days=90)\n",
    "\n",
    "service = QiskitRuntimeService()\n",
    "jobs_in_last_three_months = service.jobs(created_after=three_months_ago)\n",
    "\n",
    "jobs_in_last_three_months[:]  # show first three jobs"
   ]
  },
  {
   "cell_type": "code",
   "execution_count": 4,
   "metadata": {},
   "outputs": [
    {
     "name": "stderr",
     "output_type": "stream",
     "text": [
      "C:\\Users\\joyde\\AppData\\Local\\Temp\\ipykernel_26224\\1475236228.py:5: DeprecationWarning: In a future release of qiskit-ibm-runtime no sooner than 3 months after the release date of 0.30.0, RuntimeJob.status() will be returned as a string instead of an instance of `JobStatus`.\n",
      "  successful_job = next(j for j in service.jobs() if j.status().name == \"DONE\")\n"
     ]
    },
    {
     "name": "stdout",
     "output_type": "stream",
     "text": [
      "cwxtzv7tdtng0087jffg\n"
     ]
    }
   ],
   "source": [
    "service = QiskitRuntimeService()\n",
    "\n",
    "# Get ID of most recent successful job for demonstration.\n",
    "# This will not work if you've never successfully run a job.\n",
    "successful_job = next(j for j in service.jobs() if j.status().name == \"DONE\")\n",
    "job_id = successful_job.job_id()\n",
    "print(job_id)"
   ]
  },
  {
   "cell_type": "code",
   "execution_count": 16,
   "metadata": {},
   "outputs": [],
   "source": [
    "# Sampler version calibration\n",
    "job_id = \"cwxtzv7tdtng0087jffg\""
   ]
  },
  {
   "cell_type": "code",
   "execution_count": 25,
   "metadata": {},
   "outputs": [
    {
     "name": "stderr",
     "output_type": "stream",
     "text": [
      "C:\\Users\\joyde\\AppData\\Local\\Temp\\ipykernel_26224\\3822463731.py:4: DeprecationWarning: In a future release of qiskit-ibm-runtime no sooner than 3 months after the release date of 0.30.0, RuntimeJob.status() will be returned as a string instead of an instance of `JobStatus`.\n",
      "  print(retrieved_job.status().name)\n"
     ]
    },
    {
     "name": "stdout",
     "output_type": "stream",
     "text": [
      "QUEUED\n"
     ]
    }
   ],
   "source": [
    "#backend version calibration\n",
    "job_id = \"cwy43x7tdtng0087m7k0\"\n",
    "retrieved_job = service.job(job_id)\n",
    "print(retrieved_job.status().name)"
   ]
  },
  {
   "cell_type": "code",
   "execution_count": 17,
   "metadata": {},
   "outputs": [],
   "source": [
    "retrieved_job = service.job(job_id)"
   ]
  },
  {
   "cell_type": "code",
   "execution_count": 18,
   "metadata": {},
   "outputs": [],
   "source": [
    "result = retrieved_job.result()\n",
    "cal_result = result[0]"
   ]
  },
  {
   "cell_type": "code",
   "execution_count": 24,
   "metadata": {},
   "outputs": [
    {
     "data": {
      "text/plain": [
       "DataBin(c1=BitArray(<shape=(), num_shots=1000, num_bits=2>), meas=BitArray(<shape=(), num_shots=1000, num_bits=2>))"
      ]
     },
     "execution_count": 24,
     "metadata": {},
     "output_type": "execute_result"
    }
   ],
   "source": [
    "cal_result.data"
   ]
  },
  {
   "cell_type": "code",
   "execution_count": null,
   "metadata": {},
   "outputs": [],
   "source": [
    "noisy_counts = cal_result.data.meas.get_counts()\n",
    "plot_histogram(noisy_counts)"
   ]
  },
  {
   "cell_type": "code",
   "execution_count": null,
   "metadata": {},
   "outputs": [],
   "source": [
    "cal_result = retrieved_job.result()"
   ]
  },
  {
   "cell_type": "code",
   "execution_count": null,
   "metadata": {},
   "outputs": [],
   "source": [
    "from qiskit.result import BaseReadoutMitigator"
   ]
  },
  {
   "cell_type": "code",
   "execution_count": null,
   "metadata": {},
   "outputs": [],
   "source": []
  },
  {
   "cell_type": "markdown",
   "metadata": {},
   "source": [
    "### Trial"
   ]
  },
  {
   "cell_type": "code",
   "execution_count": null,
   "metadata": {},
   "outputs": [],
   "source": [
    "from qiskit import *\n",
    "from qiskit import QuantumCircuit\n",
    "from qiskit.visualization import plot_state_qsphere, plot_histogram, plot_bloch_multivector, array_to_latex\n",
    "from qiskit_aer import AerSimulator\n",
    "from qiskit_ibm_runtime import QiskitRuntimeService, SamplerV2 as Sampler\n",
    "from qiskit.quantum_info import Operator\n",
    "from qiskit.transpiler.preset_passmanagers import generate_preset_pass_manager\n",
    "from math import sqrt\n",
    "import random\n",
    "from collections import Counter\n",
    "import time\n",
    "\n",
    "QiskitRuntimeService.save_account(channel=\"ibm_quantum\",\n",
    "                                  token=\"11318f27c420947d9fcc114bdf0dc0103873ca807db5e77f68463decf6fef341ea99779afdbf5c13cc9d87c68cffb3c8011cb4a1a1165f10d62f87eaee3cee4f\",\n",
    "                                  overwrite=True,\n",
    "                                  set_as_default=True)\n",
    "\n",
    "from calibration import complete_meas_cal, CompleteMeasFitter\n",
    "\n",
    "\n",
    "qr = QuantumRegister(2)\n",
    "meas_calibs, state_labels = complete_meas_cal(qr=qr, circlabel='mcal')\n",
    "\n",
    "\n",
    "service = QiskitRuntimeService()\n",
    "\n",
    "job_id = \"cwxtzv7tdtng0087jffg\"\n",
    "retrieved_job = service.job(job_id)\n",
    "\n",
    "cal_result = retrieved_job.result()\n",
    "\n",
    "meas_fitter = CompleteMeasFitter(cal_result, state_labels, circlabel='mcal')\n",
    "array_to_latex(meas_fitter.cal_matrix)"
   ]
  },
  {
   "cell_type": "code",
   "execution_count": null,
   "metadata": {},
   "outputs": [],
   "source": []
  },
  {
   "cell_type": "code",
   "execution_count": null,
   "metadata": {},
   "outputs": [],
   "source": []
  },
  {
   "cell_type": "code",
   "execution_count": null,
   "metadata": {},
   "outputs": [],
   "source": []
  },
  {
   "cell_type": "code",
   "execution_count": null,
   "metadata": {},
   "outputs": [],
   "source": []
  },
  {
   "cell_type": "markdown",
   "metadata": {},
   "source": [
    "### Resume Error Mitigation"
   ]
  },
  {
   "cell_type": "code",
   "execution_count": null,
   "metadata": {},
   "outputs": [],
   "source": [
    "cal_result = result\n",
    "meas_fitter = CompleteMeasFitter(cal_result, state_labels, circlabel='mcal')\n",
    "array_to_latex(meas_fitter.cal_matrix)"
   ]
  },
  {
   "cell_type": "code",
   "execution_count": null,
   "metadata": {},
   "outputs": [],
   "source": [
    "circuit = QuantumCircuit(2)\n",
    "\n",
    "circuit.h(0)\n",
    "circuit.cx(0, 1)\n",
    "\n",
    "circuit.measure_all()\n",
    "\n",
    "circuit.draw(\"mpl\")"
   ]
  },
  {
   "cell_type": "code",
   "execution_count": null,
   "metadata": {},
   "outputs": [],
   "source": [
    "service = QiskitRuntimeService()\n",
    "backend = service.least_busy(simulator=False, operational=True, min_num_qubits=100)\n",
    "pass_manager = generate_preset_pass_manager(optimization_level=3, backend=backend)\n",
    "isa_circuit = pass_manager.run(circuit)\n",
    "isa_circuit.draw(\"mpl\", idle_wires=False)"
   ]
  },
  {
   "cell_type": "code",
   "execution_count": null,
   "metadata": {},
   "outputs": [],
   "source": [
    "sampler = Sampler(backend)\n",
    "job = sampler.run([isa_circuit], shots=1000)\n",
    "result = job.result()\n",
    "noisy_results = result[0]"
   ]
  },
  {
   "cell_type": "code",
   "execution_count": null,
   "metadata": {},
   "outputs": [],
   "source": [
    "noisy_counts = noisy_results.data.meas.get_counts()\n",
    "plot_histogram(noisy_counts)"
   ]
  },
  {
   "cell_type": "markdown",
   "metadata": {},
   "source": [
    "general_circuit = QuantumCircuit(2, 2)\n",
    "general_circuit.h(0)\n",
    "general_circuit.cx(0, 1)\n",
    "general_circuit.measure([0, 1], [0, 1])\n",
    "\n",
    "simulator = AerSimulator()\n",
    "pass_manager = generate_preset_pass_manager(optimization_level=3, backend=simulator)\n",
    "isa_circuit = pass_manager.run(general_circuit)\n",
    "job = simulator.run(isa_circuit, shots=1000, noise_model=noise_model)\n",
    "noisy_results = job.result()\n",
    "noisy_counts = noisy_results.get_counts()\n",
    "plot_histogram(noisy_counts)"
   ]
  },
  {
   "cell_type": "code",
   "execution_count": null,
   "metadata": {},
   "outputs": [],
   "source": [
    "# get the fitter object\n",
    "meas_fitter = meas_fitter.filter\n",
    "\n",
    "# results with mitigation\n",
    "mitigated_results = meas_fitter.apply(noisy_results)\n",
    "mitigated_counts = mitigated_results.get_counts()"
   ]
  },
  {
   "cell_type": "code",
   "execution_count": null,
   "metadata": {},
   "outputs": [],
   "source": [
    "plot_histogram([noisy_counts, mitigated_counts], legend=['noisy', 'mitigated'])"
   ]
  },
  {
   "cell_type": "markdown",
   "metadata": {},
   "source": [
    "=> this is the combined graph without error mitigation and with error mitigation"
   ]
  },
  {
   "cell_type": "markdown",
   "metadata": {},
   "source": [
    "## Question - 05\n",
    "Show Heisenberg uncertainty principle in action for X, Y and Z basis measurement.\\\n",
    "Explain your understanding in detail with proper visualization.\\\n",
    "Initialize a state in Y basis and measure in X,Y and Z basis.\\\n",
    "Show how Error Correction works with any of your preferred circuit."
   ]
  },
  {
   "cell_type": "markdown",
   "metadata": {},
   "source": [
    "### Heisenberg Uncertainty Principle"
   ]
  },
  {
   "cell_type": "code",
   "execution_count": null,
   "metadata": {},
   "outputs": [],
   "source": [
    "circuit = QuantumCircuit(1, 1)\n",
    "\n",
    "# Intializing circuit with |1> state in Z basis\n",
    "circuit.initialize([0, 1], 0)\n",
    "\n",
    "# measuring the state on z basis\n",
    "circuit.measure(0, 0)\n",
    "\n",
    "circuit.draw('mpl')"
   ]
  },
  {
   "cell_type": "code",
   "execution_count": null,
   "metadata": {},
   "outputs": [],
   "source": [
    "simulator = AerSimulator()\n",
    "pass_manager = generate_preset_pass_manager(optimization_level=3, backend=simulator)\n",
    "isa_circuit = pass_manager.run(circuit)\n",
    "job = simulator.run(isa_circuit, shots=1000)\n",
    "result = job.result()\n",
    "counts = result.get_counts()\n",
    "plot_histogram(counts)"
   ]
  },
  {
   "cell_type": "markdown",
   "metadata": {},
   "source": [
    "=> as the circuit is initialized on z basis so measing on z basisi will be certain as we initialized."
   ]
  },
  {
   "cell_type": "code",
   "execution_count": null,
   "metadata": {},
   "outputs": [],
   "source": [
    "circuit = QuantumCircuit(1, 1)\n",
    "\n",
    "# Intializing circuit with |1> state in Z basis\n",
    "circuit.initialize([0, 1], 0)\n",
    "\n",
    "#measuring the state on x basis\n",
    "circuit.h(0)\n",
    "circuit.measure(0, 0)\n",
    "\n",
    "circuit.draw('mpl')"
   ]
  },
  {
   "cell_type": "code",
   "execution_count": null,
   "metadata": {},
   "outputs": [],
   "source": [
    "simulator = AerSimulator()\n",
    "pass_manager = generate_preset_pass_manager(optimization_level=3, backend=simulator)\n",
    "isa_circuit = pass_manager.run(circuit)\n",
    "job = simulator.run(isa_circuit, shots=1000)\n",
    "result = job.result()\n",
    "counts = result.get_counts()\n",
    "plot_histogram(counts)"
   ]
  },
  {
   "cell_type": "markdown",
   "metadata": {},
   "source": [
    "=> according to Heisenberg Uncertainty Principle, if we initialize in a basis and measure on another basis, outcome will be uncertain."
   ]
  },
  {
   "cell_type": "code",
   "execution_count": null,
   "metadata": {},
   "outputs": [],
   "source": [
    "circuit = QuantumCircuit(1, 1)\n",
    "\n",
    "# Intializing circuit with |1> state in Z basis\n",
    "circuit.initialize([0, 1], 0)\n",
    "\n",
    "#measuring the state on y basis\n",
    "circuit.sdg(0)\n",
    "circuit.h(0)\n",
    "circuit.measure(0, 0)\n",
    "\n",
    "circuit.draw('mpl')"
   ]
  },
  {
   "cell_type": "code",
   "execution_count": null,
   "metadata": {},
   "outputs": [],
   "source": [
    "simulator = AerSimulator()\n",
    "pass_manager = generate_preset_pass_manager(optimization_level=3, backend=simulator)\n",
    "isa_circuit = pass_manager.run(circuit)\n",
    "job = simulator.run(isa_circuit, shots=1000)\n",
    "result = job.result()\n",
    "counts = result.get_counts()\n",
    "plot_histogram(counts)"
   ]
  },
  {
   "cell_type": "markdown",
   "metadata": {},
   "source": [
    "=> according to Heisenberg Uncertainty Principle, if we initialize in a basis and measure on another basis, outcome will be uncertain."
   ]
  },
  {
   "cell_type": "markdown",
   "metadata": {},
   "source": [
    "### Initializing state in y basis"
   ]
  },
  {
   "cell_type": "code",
   "execution_count": null,
   "metadata": {},
   "outputs": [],
   "source": [
    "circuit = QuantumCircuit(1, 1)\n",
    "\n",
    "# initializing circuit in y basis with |+i> state\n",
    "circuit.initialize([1/sqrt(2), 1j/sqrt(2)], 0)\n",
    "\n",
    "#measuring the state on y basis\n",
    "circuit.sdg(0)\n",
    "circuit.h(0)\n",
    "circuit.measure(0, 0)\n",
    "\n",
    "circuit.draw('mpl')"
   ]
  },
  {
   "cell_type": "code",
   "execution_count": null,
   "metadata": {},
   "outputs": [],
   "source": [
    "simulator = AerSimulator()\n",
    "pass_manager = generate_preset_pass_manager(optimization_level=3, backend=simulator)\n",
    "isa_circuit = pass_manager.run(circuit)\n",
    "job = simulator.run(isa_circuit, shots=1000)\n",
    "result = job.result()\n",
    "counts = result.get_counts()\n",
    "plot_histogram(counts)"
   ]
  },
  {
   "cell_type": "markdown",
   "metadata": {},
   "source": [
    "=> Result is certain, as we measure on the same basis"
   ]
  },
  {
   "cell_type": "code",
   "execution_count": null,
   "metadata": {},
   "outputs": [],
   "source": [
    "circuit = QuantumCircuit(1, 1)\n",
    "\n",
    "# initializing circuit in y basis with |+i> state\n",
    "circuit.initialize([1/sqrt(2), 1j/sqrt(2)], 0)\n",
    "\n",
    "#measuring the state on x basis\n",
    "circuit.h(0)\n",
    "circuit.measure(0, 0)\n",
    "\n",
    "circuit.draw('mpl')"
   ]
  },
  {
   "cell_type": "code",
   "execution_count": null,
   "metadata": {},
   "outputs": [],
   "source": [
    "simulator = AerSimulator()\n",
    "pass_manager = generate_preset_pass_manager(optimization_level=3, backend=simulator)\n",
    "isa_circuit = pass_manager.run(circuit)\n",
    "job = simulator.run(isa_circuit, shots=1000)\n",
    "result = job.result()\n",
    "counts = result.get_counts()\n",
    "plot_histogram(counts)"
   ]
  },
  {
   "cell_type": "markdown",
   "metadata": {},
   "source": [
    "=> according to Heisenberg Uncertainty Principle, if we initialize in a basis and measure on another basis, outcome will be uncertain."
   ]
  },
  {
   "cell_type": "code",
   "execution_count": null,
   "metadata": {},
   "outputs": [],
   "source": [
    "circuit = QuantumCircuit(1, 1)\n",
    "\n",
    "# initializing circuit in y basis with |+i> state\n",
    "circuit.initialize([1/sqrt(2), 1j/sqrt(2)], 0)\n",
    "\n",
    "#measuring the state on z basis\n",
    "circuit.measure(0, 0)\n",
    "\n",
    "circuit.draw('mpl')"
   ]
  },
  {
   "cell_type": "code",
   "execution_count": null,
   "metadata": {},
   "outputs": [],
   "source": [
    "simulator = AerSimulator()\n",
    "pass_manager = generate_preset_pass_manager(optimization_level=3, backend=simulator)\n",
    "isa_circuit = pass_manager.run(circuit)\n",
    "job = simulator.run(isa_circuit, shots=1000)\n",
    "result = job.result()\n",
    "counts = result.get_counts()\n",
    "plot_histogram(counts)"
   ]
  },
  {
   "cell_type": "markdown",
   "metadata": {},
   "source": [
    "=> according to Heisenberg Uncertainty Principle, if we initialize in a basis and measure on another basis, outcome will be uncertain."
   ]
  },
  {
   "cell_type": "markdown",
   "metadata": {},
   "source": [
    "### Error Correction using a simple circuit"
   ]
  },
  {
   "cell_type": "markdown",
   "metadata": {},
   "source": [
    "#### Run on Simulator without any error"
   ]
  },
  {
   "cell_type": "code",
   "execution_count": null,
   "metadata": {},
   "outputs": [],
   "source": [
    "circuit = QuantumCircuit(1)\n",
    "\n",
    "# initializing circuit in |1> state\n",
    "circuit.x(0)\n",
    "\n",
    "circuit.measure_all()\n",
    "\n",
    "circuit.draw('mpl')"
   ]
  },
  {
   "cell_type": "code",
   "execution_count": null,
   "metadata": {},
   "outputs": [],
   "source": [
    "simulator = AerSimulator()\n",
    "pass_manager = generate_preset_pass_manager(optimization_level=3, backend=simulator)\n",
    "isa_circuit = pass_manager.run(circuit)\n",
    "job = simulator.run(isa_circuit, shots=1000)\n",
    "result = job.result()\n",
    "counts = result.get_counts()\n",
    "plot_histogram(counts)"
   ]
  },
  {
   "cell_type": "markdown",
   "metadata": {},
   "source": [
    "=> this should be the output for this circuit"
   ]
  },
  {
   "cell_type": "markdown",
   "metadata": {},
   "source": [
    "#### Run on simulator with error"
   ]
  },
  {
   "cell_type": "code",
   "execution_count": null,
   "metadata": {},
   "outputs": [],
   "source": [
    "def constructCircuit():\n",
    "    circuit = QuantumCircuit(1)\n",
    "\n",
    "    # initializing circuit in |1> state\n",
    "    circuit.x(0)\n",
    "\n",
    "    \n",
    "    # Apply random bit flip with 10% probability\n",
    "    if random.random() < 0.1:\n",
    "        circuit.x(0)\n",
    "    \n",
    "    circuit.measure_all()\n",
    "    \n",
    "    return circuit"
   ]
  },
  {
   "cell_type": "code",
   "execution_count": null,
   "metadata": {},
   "outputs": [],
   "source": [
    "simulator = AerSimulator()\n",
    "pass_manager = generate_preset_pass_manager(optimization_level=3, backend=simulator)\n",
    "\n",
    "all_counts_error = Counter()\n",
    "\n",
    "for i in range(1000):\n",
    "    circuit = constructCircuit()\n",
    "    isa_circuit = pass_manager.run(circuit)\n",
    "    job = simulator.run(isa_circuit, shots=1)\n",
    "    result = job.result()\n",
    "    counts = result.get_counts()\n",
    "    all_counts_error.update(counts)\n",
    "\n",
    "plot_histogram(all_counts_error)"
   ]
  },
  {
   "cell_type": "markdown",
   "metadata": {},
   "source": [
    "=> we initialize the circuit with 1 state but we got some 0 state because of random error 10%"
   ]
  },
  {
   "cell_type": "markdown",
   "metadata": {},
   "source": [
    "#### Run on simulator with error correction using repeatation code"
   ]
  },
  {
   "cell_type": "code",
   "execution_count": null,
   "metadata": {},
   "outputs": [],
   "source": [
    "def constructCircuit():\n",
    "    circuit = QuantumCircuit(5, 1)\n",
    "\n",
    "    # initializing circuit in |1> state\n",
    "    circuit.x(0)\n",
    "\n",
    "    # Encoding\n",
    "    circuit.cx(0, 1)\n",
    "    circuit.cx(0, 2)\n",
    "\n",
    "    # Apply random bit flip with 10% probability\n",
    "    if random.random() < 0.1:\n",
    "        circuit.x(random.randint(0, 2))\n",
    "\n",
    "    # syndrome generate\n",
    "    circuit.cx(0, 3)\n",
    "    circuit.cx(1, 3)\n",
    "    circuit.cx(1, 4)\n",
    "    circuit.cx(2, 4)\n",
    "\n",
    "    # Recovery Protocol\n",
    "    circuit.cx(3, 0)\n",
    "    circuit.cx(4, 2)\n",
    "    circuit.ccx(4, 3, 0)\n",
    "    circuit.ccx(4, 3, 2)\n",
    "    circuit.ccx(4, 3, 1)\n",
    "\n",
    "    circuit.measure(0, 0)\n",
    "    \n",
    "    return circuit"
   ]
  },
  {
   "cell_type": "code",
   "execution_count": null,
   "metadata": {},
   "outputs": [],
   "source": [
    "simulator = AerSimulator()\n",
    "pass_manager = generate_preset_pass_manager(optimization_level=3, backend=simulator)\n",
    "\n",
    "all_counts_error_corrected = Counter()\n",
    "\n",
    "for i in range(1000):\n",
    "    circuit = constructCircuit()\n",
    "    isa_circuit = pass_manager.run(circuit)\n",
    "    job = simulator.run(isa_circuit, shots=1)\n",
    "    result = job.result()\n",
    "    counts = result.get_counts()\n",
    "    all_counts_error_corrected.update(counts)\n",
    "\n",
    "plot_histogram(all_counts_error_corrected)"
   ]
  },
  {
   "cell_type": "markdown",
   "metadata": {},
   "source": [
    "=> Here you can see all the error are corrected using repeatation code"
   ]
  },
  {
   "cell_type": "code",
   "execution_count": null,
   "metadata": {},
   "outputs": [],
   "source": [
    "plot_histogram([all_counts_error, all_counts_error_corrected], legend=['with Error', 'Error Corrected'])"
   ]
  },
  {
   "cell_type": "markdown",
   "metadata": {},
   "source": [
    "=> compare of both result without error correction and with error correction"
   ]
  }
 ],
 "metadata": {
  "kernelspec": {
   "display_name": ".venv",
   "language": "python",
   "name": "python3"
  },
  "language_info": {
   "codemirror_mode": {
    "name": "ipython",
    "version": 3
   },
   "file_extension": ".py",
   "mimetype": "text/x-python",
   "name": "python",
   "nbconvert_exporter": "python",
   "pygments_lexer": "ipython3",
   "version": "3.12.7"
  }
 },
 "nbformat": 4,
 "nbformat_minor": 2
}
