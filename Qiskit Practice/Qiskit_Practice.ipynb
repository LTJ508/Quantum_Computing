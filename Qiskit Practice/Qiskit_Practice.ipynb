{
  "cells": [
    {
      "cell_type": "markdown",
      "metadata": {
        "id": "view-in-github",
        "colab_type": "text"
      },
      "source": [
        "<a href=\"https://colab.research.google.com/github/LTJ508/Quantum_Computing/blob/main/Qiskit%20Practice/Qiskit_Practice.ipynb\" target=\"_parent\"><img src=\"https://colab.research.google.com/assets/colab-badge.svg\" alt=\"Open In Colab\"/></a>"
      ]
    },
    {
      "cell_type": "markdown",
      "id": "839613eb-7735-41ce-bab7-76ee155d0809",
      "metadata": {
        "id": "839613eb-7735-41ce-bab7-76ee155d0809"
      },
      "source": [
        "# <font color=\"red\">Qiskit Practice - Lecture 11</font>"
      ]
    },
    {
      "cell_type": "markdown",
      "id": "001c0452-1d31-4e3c-8f7a-c3a657964990",
      "metadata": {
        "id": "001c0452-1d31-4e3c-8f7a-c3a657964990"
      },
      "source": [
        "## Install Library"
      ]
    },
    {
      "cell_type": "markdown",
      "id": "8b492786-1310-431e-b89a-6f8962fdee2f",
      "metadata": {
        "id": "8b492786-1310-431e-b89a-6f8962fdee2f"
      },
      "source": [
        "!pip uninstall qiskit qiskit-terra qiskit-aer\n",
        "!pip install qiskit==0.46.0\n",
        "!pip install pylatexenc\n",
        "!pip install qiskit.ignis"
      ]
    },
    {
      "cell_type": "markdown",
      "id": "85c393f1-6258-40aa-87ce-933abf3316f9",
      "metadata": {
        "id": "85c393f1-6258-40aa-87ce-933abf3316f9"
      },
      "source": [
        "## Import Library First"
      ]
    },
    {
      "cell_type": "code",
      "execution_count": null,
      "id": "4b0937da-bf4e-4bf9-a7d9-c3c815ed4a94",
      "metadata": {
        "id": "4b0937da-bf4e-4bf9-a7d9-c3c815ed4a94",
        "outputId": "fd87d802-c09e-4ced-94f3-238e455cd2e4"
      },
      "outputs": [
        {
          "name": "stdout",
          "output_type": "stream",
          "text": [
            "Name: qiskit\n",
            "Version: 1.2.4\n",
            "Summary: An open-source SDK for working with quantum computers at the level of extended quantum circuits, operators, and primitives.\n",
            "Home-page: https://www.ibm.com/quantum/qiskit\n",
            "Author: \n",
            "Author-email: Qiskit Development Team <qiskit@us.ibm.com>\n",
            "License: Apache 2.0\n",
            "Location: C:\\Users\\joyde\\AppData\\Local\\Programs\\Python\\Python312\\Lib\\site-packages\n",
            "Requires: dill, numpy, python-dateutil, rustworkx, scipy, stevedore, symengine, sympy, typing-extensions\n",
            "Required-by: qiskit-aer, qiskit-ibm-provider, qiskit-ibm-runtime\n"
          ]
        }
      ],
      "source": [
        "!pip show qiskit"
      ]
    },
    {
      "cell_type": "code",
      "execution_count": null,
      "id": "1d6a8b26-43ce-4827-aa38-5cb76b5e5354",
      "metadata": {
        "id": "1d6a8b26-43ce-4827-aa38-5cb76b5e5354"
      },
      "outputs": [],
      "source": [
        "import warnings\n",
        "warnings.filterwarnings('ignore')"
      ]
    },
    {
      "cell_type": "code",
      "execution_count": null,
      "id": "74fecaa0-b15f-4599-a8ef-a4239edca256",
      "metadata": {
        "id": "74fecaa0-b15f-4599-a8ef-a4239edca256",
        "outputId": "afb9bcff-8949-44a3-c933-f7a7ed888531"
      },
      "outputs": [
        {
          "name": "stdout",
          "output_type": "stream",
          "text": [
            "Name: qiskit-aer\n",
            "Version: 0.15.1\n",
            "Summary: Aer - High performance simulators for Qiskit\n",
            "Home-page: https://github.com/Qiskit/qiskit-aer\n",
            "Author: AER Development Team\n",
            "Author-email: qiskit@us.ibm.com\n",
            "License: Apache 2.0\n",
            "Location: C:\\Users\\joyde\\AppData\\Local\\Programs\\Python\\Python312\\Lib\\site-packages\n",
            "Requires: numpy, psutil, qiskit, scipy\n",
            "Required-by: \n"
          ]
        }
      ],
      "source": [
        "!pip show qiskit-aer\n"
      ]
    },
    {
      "cell_type": "code",
      "execution_count": null,
      "id": "71329ea1-3f47-44e5-a77d-29a0039724e0",
      "metadata": {
        "id": "71329ea1-3f47-44e5-a77d-29a0039724e0"
      },
      "outputs": [],
      "source": [
        "from qiskit import *\n",
        "from qiskit_ibm_runtime import QiskitRuntimeService\n",
        "from qiskit_ibm_provider.job import job_monitor\n",
        "from qiskit.visualization import plot_state_qsphere, plot_histogram\n",
        "from qiskit.visualization import plot_histogram, plot_bloch_multivector, array_to_latex"
      ]
    },
    {
      "cell_type": "code",
      "execution_count": null,
      "id": "672a6f52-8e80-4a90-9b89-ca2f77a63264",
      "metadata": {
        "id": "672a6f52-8e80-4a90-9b89-ca2f77a63264",
        "outputId": "9564d14a-2a2a-461d-a01a-871f4e164d0a"
      },
      "outputs": [
        {
          "data": {
            "image/png": "[encoded data removed]",
            "text/plain": [
              "<Figure size 321.746x200.667 with 1 Axes>"
            ]
          },
          "execution_count": 7,
          "metadata": {},
          "output_type": "execute_result"
        }
      ],
      "source": [
        "# create circuit\n",
        "circuit = QuantumCircuit(1, 1)\n",
        "\n",
        "# apply gate\n",
        "circuit.x(0)\n",
        "\n",
        "# apply measurement\n",
        "circuit.measure(0, 0)\n",
        "\n",
        "# draw circuit\n",
        "circuit.draw(initial_state=True, output=\"mpl\")"
      ]
    },
    {
      "cell_type": "markdown",
      "id": "df0e94d0-e85c-4720-a383-36c91818669d",
      "metadata": {
        "id": "df0e94d0-e85c-4720-a383-36c91818669d"
      },
      "source": [
        "## Run on Simulator"
      ]
    },
    {
      "cell_type": "code",
      "execution_count": null,
      "id": "9c29c4f9-4e84-4cd2-af0c-f606175a269d",
      "metadata": {
        "id": "9c29c4f9-4e84-4cd2-af0c-f606175a269d",
        "outputId": "e1afb2d4-b0f9-4cb0-c2e8-a5237d6b1932"
      },
      "outputs": [
        {
          "ename": "NameError",
          "evalue": "name 'AerBackend' is not defined",
          "output_type": "error",
          "traceback": [
            "\u001b[1;31m---------------------------------------------------------------------------\u001b[0m",
            "\u001b[1;31mNameError\u001b[0m                                 Traceback (most recent call last)",
            "Cell \u001b[1;32mIn[9], line 2\u001b[0m\n\u001b[0;32m      1\u001b[0m \u001b[38;5;66;03m# select simulator\u001b[39;00m\n\u001b[1;32m----> 2\u001b[0m simulator \u001b[38;5;241m=\u001b[39m \u001b[43mAerBackend\u001b[49m\u001b[38;5;241m.\u001b[39mget_backend(\u001b[38;5;124m'\u001b[39m\u001b[38;5;124maer_simulator\u001b[39m\u001b[38;5;124m'\u001b[39m)\n\u001b[0;32m      4\u001b[0m \u001b[38;5;66;03m# save statevector\u001b[39;00m\n\u001b[0;32m      5\u001b[0m circuit\u001b[38;5;241m.\u001b[39msave_statevector()\n",
            "\u001b[1;31mNameError\u001b[0m: name 'AerBackend' is not defined"
          ]
        }
      ],
      "source": [
        "# select simulator\n",
        "simulator = AerBackend.get_backend('aer_simulator')\n",
        "\n",
        "# save statevector\n",
        "circuit.save_statevector()\n",
        "\n",
        "## assemble\n",
        "qobj = assemble(circuit)\n",
        "\n",
        "# run\n",
        "job = simulator.run(circuit)\n",
        "\n",
        "# monitor job\n",
        "job_monitor(job)\n",
        "\n",
        "# get result\n",
        "resilt = job.result()"
      ]
    },
    {
      "cell_type": "markdown",
      "id": "af78cb8d-c0f9-4b9f-8146-515f7bf96176",
      "metadata": {
        "id": "af78cb8d-c0f9-4b9f-8146-515f7bf96176"
      },
      "source": [
        "## Statevector Output"
      ]
    },
    {
      "cell_type": "code",
      "execution_count": null,
      "id": "8c98b94b-499f-445e-bda2-4a9a86def722",
      "metadata": {
        "id": "8c98b94b-499f-445e-bda2-4a9a86def722"
      },
      "outputs": [],
      "source": [
        "# get statevector\n",
        "final_state = result.get_statevector()\n",
        "\n",
        "# plot statevector\n",
        "plot_bloch_multivector(final_state)"
      ]
    },
    {
      "cell_type": "code",
      "execution_count": null,
      "id": "5f1c9d71-a8f4-4889-b3bf-6d4e61ed29c9",
      "metadata": {
        "id": "5f1c9d71-a8f4-4889-b3bf-6d4e61ed29c9"
      },
      "outputs": [],
      "source": []
    },
    {
      "cell_type": "code",
      "execution_count": null,
      "id": "bf51dd84-71b5-46e7-9f1a-e5c2d3f609b6",
      "metadata": {
        "id": "bf51dd84-71b5-46e7-9f1a-e5c2d3f609b6"
      },
      "outputs": [],
      "source": []
    },
    {
      "cell_type": "markdown",
      "id": "9e2fd04d-2177-4d41-a6d9-e5ecca9f502d",
      "metadata": {
        "id": "9e2fd04d-2177-4d41-a6d9-e5ecca9f502d"
      },
      "source": [
        "# <center><font size=\"50\" color=\"red\">Thank You</font></center>"
      ]
    },
    {
      "cell_type": "code",
      "execution_count": null,
      "id": "6824dea8-28ec-456e-995c-b5ab554021d7",
      "metadata": {
        "id": "6824dea8-28ec-456e-995c-b5ab554021d7"
      },
      "outputs": [],
      "source": []
    }
  ],
  "metadata": {
    "kernelspec": {
      "display_name": "Python 3 (ipykernel)",
      "language": "python",
      "name": "python3"
    },
    "language_info": {
      "codemirror_mode": {
        "name": "ipython",
        "version": 3
      },
      "file_extension": ".py",
      "mimetype": "text/x-python",
      "name": "python",
      "nbconvert_exporter": "python",
      "pygments_lexer": "ipython3",
      "version": "3.12.7"
    },
    "colab": {
      "provenance": [],
      "toc_visible": true,
      "include_colab_link": true
    }
  },
  "nbformat": 4,
  "nbformat_minor": 5
}