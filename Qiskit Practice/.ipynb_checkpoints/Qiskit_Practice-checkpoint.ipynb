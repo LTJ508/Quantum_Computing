{
 "cells": [
  {
   "cell_type": "markdown",
   "id": "839613eb-7735-41ce-bab7-76ee155d0809",
   "metadata": {},
   "source": [
    "# <font color=\"red\">Qiskit Practice - Lecture 11</font>"
   ]
  },
  {
   "cell_type": "markdown",
   "id": "001c0452-1d31-4e3c-8f7a-c3a657964990",
   "metadata": {},
   "source": [
    "## Install Library"
   ]
  },
  {
   "cell_type": "code",
   "execution_count": null,
   "id": "493397dc-c8d6-465a-b210-caaef6fc0563",
   "metadata": {},
   "outputs": [],
   "source": [
    "!pip uninstall qiskit\n",
    "!pip install qiskit==0.39.0\n",
    "!pip install pylatexenc\n",
    "!pip install qiskit.ignis"
   ]
  },
  {
   "cell_type": "markdown",
   "id": "85c393f1-6258-40aa-87ce-933abf3316f9",
   "metadata": {},
   "source": [
    "## Import Library First"
   ]
  },
  {
   "cell_type": "code",
   "execution_count": null,
   "id": "bb3e4a5c-18cd-44ab-9b5f-dbf134ee41d0",
   "metadata": {},
   "outputs": [],
   "source": [
    "from qiskit import *\n",
    "from qiskit.tools.monitor import job_monitor\n",
    "from qiskit.tools.visualization import plot_state_qsphere\n",
    "from qiskit.visualization import plot_histogram, plot_bloch_multivector, array_to_latex"
   ]
  },
  {
   "cell_type": "code",
   "execution_count": null,
   "id": "672a6f52-8e80-4a90-9b89-ca2f77a63264",
   "metadata": {},
   "outputs": [],
   "source": []
  },
  {
   "cell_type": "code",
   "execution_count": null,
   "id": "42c03e11-7897-480a-bb78-ced12c9f06ca",
   "metadata": {},
   "outputs": [],
   "source": []
  },
  {
   "cell_type": "code",
   "execution_count": null,
   "id": "9c29c4f9-4e84-4cd2-af0c-f606175a269d",
   "metadata": {},
   "outputs": [],
   "source": []
  },
  {
   "cell_type": "code",
   "execution_count": null,
   "id": "90de2e56-0225-4437-8fcd-5e09ebeee1ab",
   "metadata": {},
   "outputs": [],
   "source": []
  },
  {
   "cell_type": "code",
   "execution_count": null,
   "id": "8c98b94b-499f-445e-bda2-4a9a86def722",
   "metadata": {},
   "outputs": [],
   "source": []
  },
  {
   "cell_type": "code",
   "execution_count": null,
   "id": "5f1c9d71-a8f4-4889-b3bf-6d4e61ed29c9",
   "metadata": {},
   "outputs": [],
   "source": []
  },
  {
   "cell_type": "code",
   "execution_count": null,
   "id": "bf51dd84-71b5-46e7-9f1a-e5c2d3f609b6",
   "metadata": {},
   "outputs": [],
   "source": []
  },
  {
   "cell_type": "markdown",
   "id": "9e2fd04d-2177-4d41-a6d9-e5ecca9f502d",
   "metadata": {},
   "source": [
    "# <center><font size=\"50\" color=\"red\">Thank You</font></center>"
   ]
  },
  {
   "cell_type": "code",
   "execution_count": null,
   "id": "6824dea8-28ec-456e-995c-b5ab554021d7",
   "metadata": {},
   "outputs": [],
   "source": []
  }
 ],
 "metadata": {
  "kernelspec": {
   "display_name": "Python 3 (ipykernel)",
   "language": "python",
   "name": "python3"
  },
  "language_info": {
   "codemirror_mode": {
    "name": "ipython",
    "version": 3
   },
   "file_extension": ".py",
   "mimetype": "text/x-python",
   "name": "python",
   "nbconvert_exporter": "python",
   "pygments_lexer": "ipython3",
   "version": "3.12.7"
  }
 },
 "nbformat": 4,
 "nbformat_minor": 5
}
