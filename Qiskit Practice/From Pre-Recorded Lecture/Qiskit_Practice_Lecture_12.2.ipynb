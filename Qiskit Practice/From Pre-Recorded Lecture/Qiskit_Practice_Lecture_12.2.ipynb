{
  "cells": [
    {
      "cell_type": "markdown",
      "metadata": {
        "colab_type": "text",
        "id": "view-in-github"
      },
      "source": [
        "<a href=\"https://colab.research.google.com/github/LTJ508/Quantum_Computing/blob/main/Qiskit%20Practice/From%20Pre-Recorded%20Lecture/Qiskit_Practice_Lecture_12.2.ipynb\" target=\"_parent\"><img src=\"https://colab.research.google.com/assets/colab-badge.svg\" alt=\"Open In Colab\"/></a>"
      ]
    },
    {
      "cell_type": "markdown",
      "metadata": {
        "id": "U20uxw4xgsGk"
      },
      "source": [
        "# <font color=\"red\">Qiskit Practice - Lecture 12</font>"
      ]
    },
    {
      "cell_type": "markdown",
      "metadata": {
        "id": "Qey79KMxgz_L"
      },
      "source": [
        "## Install Library"
      ]
    },
    {
      "cell_type": "code",
      "execution_count": null,
      "metadata": {
        "colab": {
          "base_uri": "https://localhost:8080/"
        },
        "id": "h5O5xlnfgwDU",
        "outputId": "0ec304d8-5663-4b70-f2df-edb05be6200a"
      },
      "outputs": [
        {
          "name": "stdout",
          "output_type": "stream",
          "text": [
            "\u001b[33mWARNING: Skipping qiskit as it is not installed.\u001b[0m\u001b[33m\n",
            "\u001b[0m\u001b[33mWARNING: Skipping qiskit-aer as it is not installed.\u001b[0m\u001b[33m\n",
            "\u001b[0mCollecting qiskit==0.46.0\n",
            "  Downloading qiskit-0.46.0-py3-none-any.whl.metadata (12 kB)\n",
            "Collecting qiskit-terra==0.46.0 (from qiskit==0.46.0)\n",
            "  Downloading qiskit_terra-0.46.0-cp38-abi3-manylinux_2_17_x86_64.manylinux2014_x86_64.whl.metadata (12 kB)\n",
            "Collecting rustworkx>=0.13.0 (from qiskit-terra==0.46.0->qiskit==0.46.0)\n",
            "  Downloading rustworkx-0.15.1-cp38-abi3-manylinux_2_17_x86_64.manylinux2014_x86_64.whl.metadata (9.9 kB)\n",
            "Requirement already satisfied: numpy<2,>=1.17 in /usr/local/lib/python3.10/dist-packages (from qiskit-terra==0.46.0->qiskit==0.46.0) (1.26.4)\n",
            "Collecting ply>=3.10 (from qiskit-terra==0.46.0->qiskit==0.46.0)\n",
            "  Downloading ply-3.11-py2.py3-none-any.whl.metadata (844 bytes)\n",
            "Requirement already satisfied: psutil>=5 in /usr/local/lib/python3.10/dist-packages (from qiskit-terra==0.46.0->qiskit==0.46.0) (5.9.5)\n",
            "Requirement already satisfied: scipy>=1.5 in /usr/local/lib/python3.10/dist-packages (from qiskit-terra==0.46.0->qiskit==0.46.0) (1.13.1)\n",
            "Requirement already satisfied: sympy>=1.3 in /usr/local/lib/python3.10/dist-packages (from qiskit-terra==0.46.0->qiskit==0.46.0) (1.13.3)\n",
            "Collecting dill>=0.3 (from qiskit-terra==0.46.0->qiskit==0.46.0)\n",
            "  Downloading dill-0.3.9-py3-none-any.whl.metadata (10 kB)\n",
            "Requirement already satisfied: python-dateutil>=2.8.0 in /usr/local/lib/python3.10/dist-packages (from qiskit-terra==0.46.0->qiskit==0.46.0) (2.8.2)\n",
            "Collecting stevedore>=3.0.0 (from qiskit-terra==0.46.0->qiskit==0.46.0)\n",
            "  Downloading stevedore-5.3.0-py3-none-any.whl.metadata (2.3 kB)\n",
            "Collecting symengine>=0.11 (from qiskit-terra==0.46.0->qiskit==0.46.0)\n",
            "  Downloading symengine-0.13.0-cp310-cp310-manylinux_2_17_x86_64.manylinux2014_x86_64.whl.metadata (1.2 kB)\n",
            "Requirement already satisfied: typing-extensions in /usr/local/lib/python3.10/dist-packages (from qiskit-terra==0.46.0->qiskit==0.46.0) (4.12.2)\n",
            "Requirement already satisfied: six>=1.5 in /usr/local/lib/python3.10/dist-packages (from python-dateutil>=2.8.0->qiskit-terra==0.46.0->qiskit==0.46.0) (1.16.0)\n",
            "Collecting pbr>=2.0.0 (from stevedore>=3.0.0->qiskit-terra==0.46.0->qiskit==0.46.0)\n",
            "  Downloading pbr-6.1.0-py2.py3-none-any.whl.metadata (3.4 kB)\n",
            "Requirement already satisfied: mpmath<1.4,>=1.1.0 in /usr/local/lib/python3.10/dist-packages (from sympy>=1.3->qiskit-terra==0.46.0->qiskit==0.46.0) (1.3.0)\n",
            "Downloading qiskit-0.46.0-py3-none-any.whl (9.6 kB)\n",
            "Downloading qiskit_terra-0.46.0-cp38-abi3-manylinux_2_17_x86_64.manylinux2014_x86_64.whl (6.3 MB)\n",
            "\u001b[2K   \u001b[90m━━━━━━━━━━━━━━━━━━━━━━━━━━━━━━━━━━━━━━━━\u001b[0m \u001b[32m6.3/6.3 MB\u001b[0m \u001b[31m43.3 MB/s\u001b[0m eta \u001b[36m0:00:00\u001b[0m\n",
            "\u001b[?25hDownloading dill-0.3.9-py3-none-any.whl (119 kB)\n",
            "\u001b[2K   \u001b[90m━━━━━━━━━━━━━━━━━━━━━━━━━━━━━━━━━━━━━━━━\u001b[0m \u001b[32m119.4/119.4 kB\u001b[0m \u001b[31m6.4 MB/s\u001b[0m eta \u001b[36m0:00:00\u001b[0m\n",
            "\u001b[?25hDownloading ply-3.11-py2.py3-none-any.whl (49 kB)\n",
            "\u001b[2K   \u001b[90m━━━━━━━━━━━━━━━━━━━━━━━━━━━━━━━━━━━━━━━━\u001b[0m \u001b[32m49.6/49.6 kB\u001b[0m \u001b[31m2.3 MB/s\u001b[0m eta \u001b[36m0:00:00\u001b[0m\n",
            "\u001b[?25hDownloading rustworkx-0.15.1-cp38-abi3-manylinux_2_17_x86_64.manylinux2014_x86_64.whl (2.0 MB)\n",
            "\u001b[2K   \u001b[90m━━━━━━━━━━━━━━━━━━━━━━━━━━━━━━━━━━━━━━━━\u001b[0m \u001b[32m2.0/2.0 MB\u001b[0m \u001b[31m35.3 MB/s\u001b[0m eta \u001b[36m0:00:00\u001b[0m\n",
            "\u001b[?25hDownloading stevedore-5.3.0-py3-none-any.whl (49 kB)\n",
            "\u001b[2K   \u001b[90m━━━━━━━━━━━━━━━━━━━━━━━━━━━━━━━━━━━━━━━━\u001b[0m \u001b[32m49.7/49.7 kB\u001b[0m \u001b[31m2.7 MB/s\u001b[0m eta \u001b[36m0:00:00\u001b[0m\n",
            "\u001b[?25hDownloading symengine-0.13.0-cp310-cp310-manylinux_2_17_x86_64.manylinux2014_x86_64.whl (49.7 MB)\n",
            "\u001b[2K   \u001b[90m━━━━━━━━━━━━━━━━━━━━━━━━━━━━━━━━━━━━━━━━\u001b[0m \u001b[32m49.7/49.7 MB\u001b[0m \u001b[31m16.2 MB/s\u001b[0m eta \u001b[36m0:00:00\u001b[0m\n",
            "\u001b[?25hDownloading pbr-6.1.0-py2.py3-none-any.whl (108 kB)\n",
            "\u001b[2K   \u001b[90m━━━━━━━━━━━━━━━━━━━━━━━━━━━━━━━━━━━━━━━━\u001b[0m \u001b[32m108.5/108.5 kB\u001b[0m \u001b[31m4.9 MB/s\u001b[0m eta \u001b[36m0:00:00\u001b[0m\n",
            "\u001b[?25hInstalling collected packages: ply, symengine, rustworkx, pbr, dill, stevedore, qiskit-terra, qiskit\n",
            "Successfully installed dill-0.3.9 pbr-6.1.0 ply-3.11 qiskit-0.46.0 qiskit-terra-0.46.0 rustworkx-0.15.1 stevedore-5.3.0 symengine-0.13.0\n",
            "Collecting pylatexenc\n",
            "  Downloading pylatexenc-2.10.tar.gz (162 kB)\n",
            "\u001b[2K     \u001b[90m━━━━━━━━━━━━━━━━━━━━━━━━━━━━━━━━━━━━━━━━\u001b[0m \u001b[32m162.6/162.6 kB\u001b[0m \u001b[31m4.0 MB/s\u001b[0m eta \u001b[36m0:00:00\u001b[0m\n",
            "\u001b[?25h  Preparing metadata (setup.py) ... \u001b[?25l\u001b[?25hdone\n",
            "Building wheels for collected packages: pylatexenc\n",
            "  Building wheel for pylatexenc (setup.py) ... \u001b[?25l\u001b[?25hdone\n",
            "  Created wheel for pylatexenc: filename=pylatexenc-2.10-py3-none-any.whl size=136817 sha256=790a74b40121d1a254024d7e465bce99bcb158835c5dd6c48ad7e6c84f267568\n",
            "  Stored in directory: /root/.cache/pip/wheels/d3/31/8b/e09b0386afd80cfc556c00408c9aeea5c35c4d484a9c762fd5\n",
            "Successfully built pylatexenc\n",
            "Installing collected packages: pylatexenc\n",
            "Successfully installed pylatexenc-2.10\n",
            "Collecting qiskit-aer==0.13.0\n",
            "  Downloading qiskit_aer-0.13.0-cp310-cp310-manylinux_2_17_x86_64.manylinux2014_x86_64.whl.metadata (6.0 kB)\n",
            "Requirement already satisfied: qiskit>=0.44.0 in /usr/local/lib/python3.10/dist-packages (from qiskit-aer==0.13.0) (0.46.0)\n",
            "Requirement already satisfied: numpy>=1.16.3 in /usr/local/lib/python3.10/dist-packages (from qiskit-aer==0.13.0) (1.26.4)\n",
            "Requirement already satisfied: scipy>=1.0 in /usr/local/lib/python3.10/dist-packages (from qiskit-aer==0.13.0) (1.13.1)\n",
            "Requirement already satisfied: qiskit-terra==0.46.0 in /usr/local/lib/python3.10/dist-packages (from qiskit>=0.44.0->qiskit-aer==0.13.0) (0.46.0)\n",
            "Requirement already satisfied: rustworkx>=0.13.0 in /usr/local/lib/python3.10/dist-packages (from qiskit-terra==0.46.0->qiskit>=0.44.0->qiskit-aer==0.13.0) (0.15.1)\n",
            "Requirement already satisfied: ply>=3.10 in /usr/local/lib/python3.10/dist-packages (from qiskit-terra==0.46.0->qiskit>=0.44.0->qiskit-aer==0.13.0) (3.11)\n",
            "Requirement already satisfied: psutil>=5 in /usr/local/lib/python3.10/dist-packages (from qiskit-terra==0.46.0->qiskit>=0.44.0->qiskit-aer==0.13.0) (5.9.5)\n",
            "Requirement already satisfied: sympy>=1.3 in /usr/local/lib/python3.10/dist-packages (from qiskit-terra==0.46.0->qiskit>=0.44.0->qiskit-aer==0.13.0) (1.13.3)\n",
            "Requirement already satisfied: dill>=0.3 in /usr/local/lib/python3.10/dist-packages (from qiskit-terra==0.46.0->qiskit>=0.44.0->qiskit-aer==0.13.0) (0.3.9)\n",
            "Requirement already satisfied: python-dateutil>=2.8.0 in /usr/local/lib/python3.10/dist-packages (from qiskit-terra==0.46.0->qiskit>=0.44.0->qiskit-aer==0.13.0) (2.8.2)\n",
            "Requirement already satisfied: stevedore>=3.0.0 in /usr/local/lib/python3.10/dist-packages (from qiskit-terra==0.46.0->qiskit>=0.44.0->qiskit-aer==0.13.0) (5.3.0)\n",
            "Requirement already satisfied: symengine>=0.11 in /usr/local/lib/python3.10/dist-packages (from qiskit-terra==0.46.0->qiskit>=0.44.0->qiskit-aer==0.13.0) (0.13.0)\n",
            "Requirement already satisfied: typing-extensions in /usr/local/lib/python3.10/dist-packages (from qiskit-terra==0.46.0->qiskit>=0.44.0->qiskit-aer==0.13.0) (4.12.2)\n",
            "Requirement already satisfied: six>=1.5 in /usr/local/lib/python3.10/dist-packages (from python-dateutil>=2.8.0->qiskit-terra==0.46.0->qiskit>=0.44.0->qiskit-aer==0.13.0) (1.16.0)\n",
            "Requirement already satisfied: pbr>=2.0.0 in /usr/local/lib/python3.10/dist-packages (from stevedore>=3.0.0->qiskit-terra==0.46.0->qiskit>=0.44.0->qiskit-aer==0.13.0) (6.1.0)\n",
            "Requirement already satisfied: mpmath<1.4,>=1.1.0 in /usr/local/lib/python3.10/dist-packages (from sympy>=1.3->qiskit-terra==0.46.0->qiskit>=0.44.0->qiskit-aer==0.13.0) (1.3.0)\n",
            "Downloading qiskit_aer-0.13.0-cp310-cp310-manylinux_2_17_x86_64.manylinux2014_x86_64.whl (12.3 MB)\n",
            "\u001b[2K   \u001b[90m━━━━━━━━━━━━━━━━━━━━━━━━━━━━━━━━━━━━━━━━\u001b[0m \u001b[32m12.3/12.3 MB\u001b[0m \u001b[31m88.1 MB/s\u001b[0m eta \u001b[36m0:00:00\u001b[0m\n",
            "\u001b[?25hInstalling collected packages: qiskit-aer\n",
            "Successfully installed qiskit-aer-0.13.0\n",
            "Collecting qiskit-ignis\n",
            "  Downloading qiskit_ignis-0.7.1-py3-none-any.whl.metadata (10 kB)\n",
            "Requirement already satisfied: numpy>=1.13 in /usr/local/lib/python3.10/dist-packages (from qiskit-ignis) (1.26.4)\n",
            "Requirement already satisfied: qiskit-terra>=0.15.1 in /usr/local/lib/python3.10/dist-packages (from qiskit-ignis) (0.46.0)\n",
            "Collecting retworkx>=0.8.0 (from qiskit-ignis)\n",
            "  Downloading retworkx-0.15.1-py3-none-any.whl.metadata (10 kB)\n",
            "Requirement already satisfied: scipy!=0.19.1,>=0.19 in /usr/local/lib/python3.10/dist-packages (from qiskit-ignis) (1.13.1)\n",
            "Requirement already satisfied: setuptools>=40.1.0 in /usr/local/lib/python3.10/dist-packages (from qiskit-ignis) (71.0.4)\n",
            "Requirement already satisfied: rustworkx>=0.13.0 in /usr/local/lib/python3.10/dist-packages (from qiskit-terra>=0.15.1->qiskit-ignis) (0.15.1)\n",
            "Requirement already satisfied: ply>=3.10 in /usr/local/lib/python3.10/dist-packages (from qiskit-terra>=0.15.1->qiskit-ignis) (3.11)\n",
            "Requirement already satisfied: psutil>=5 in /usr/local/lib/python3.10/dist-packages (from qiskit-terra>=0.15.1->qiskit-ignis) (5.9.5)\n",
            "Requirement already satisfied: sympy>=1.3 in /usr/local/lib/python3.10/dist-packages (from qiskit-terra>=0.15.1->qiskit-ignis) (1.13.3)\n",
            "Requirement already satisfied: dill>=0.3 in /usr/local/lib/python3.10/dist-packages (from qiskit-terra>=0.15.1->qiskit-ignis) (0.3.9)\n",
            "Requirement already satisfied: python-dateutil>=2.8.0 in /usr/local/lib/python3.10/dist-packages (from qiskit-terra>=0.15.1->qiskit-ignis) (2.8.2)\n",
            "Requirement already satisfied: stevedore>=3.0.0 in /usr/local/lib/python3.10/dist-packages (from qiskit-terra>=0.15.1->qiskit-ignis) (5.3.0)\n",
            "Requirement already satisfied: symengine>=0.11 in /usr/local/lib/python3.10/dist-packages (from qiskit-terra>=0.15.1->qiskit-ignis) (0.13.0)\n",
            "Requirement already satisfied: typing-extensions in /usr/local/lib/python3.10/dist-packages (from qiskit-terra>=0.15.1->qiskit-ignis) (4.12.2)\n",
            "Requirement already satisfied: six>=1.5 in /usr/local/lib/python3.10/dist-packages (from python-dateutil>=2.8.0->qiskit-terra>=0.15.1->qiskit-ignis) (1.16.0)\n",
            "Requirement already satisfied: pbr>=2.0.0 in /usr/local/lib/python3.10/dist-packages (from stevedore>=3.0.0->qiskit-terra>=0.15.1->qiskit-ignis) (6.1.0)\n",
            "Requirement already satisfied: mpmath<1.4,>=1.1.0 in /usr/local/lib/python3.10/dist-packages (from sympy>=1.3->qiskit-terra>=0.15.1->qiskit-ignis) (1.3.0)\n",
            "Downloading qiskit_ignis-0.7.1-py3-none-any.whl (198 kB)\n",
            "\u001b[2K   \u001b[90m━━━━━━━━━━━━━━━━━━━━━━━━━━━━━━━━━━━━━━━━\u001b[0m \u001b[32m198.7/198.7 kB\u001b[0m \u001b[31m5.2 MB/s\u001b[0m eta \u001b[36m0:00:00\u001b[0m\n",
            "\u001b[?25hDownloading retworkx-0.15.1-py3-none-any.whl (10 kB)\n",
            "Installing collected packages: retworkx, qiskit-ignis\n",
            "Successfully installed qiskit-ignis-0.7.1 retworkx-0.15.1\n"
          ]
        }
      ],
      "source": [
        "!pip uninstall qiskit qiskit-aer\n",
        "!pip install qiskit==0.46.0\n",
        "!pip install pylatexenc\n",
        "!pip install qiskit-aer==0.13.0\n",
        "#!pip install qiskit-ibm-runtime\n",
        "#!pip install qiskit-ibm-provider\n",
        "!pip install qiskit-ignis"
      ]
    },
    {
      "cell_type": "markdown",
      "metadata": {
        "id": "IQnHa1dEg3VT"
      },
      "source": [
        "## Import Library First"
      ]
    },
    {
      "cell_type": "code",
      "execution_count": null,
      "metadata": {
        "id": "Ow3GmM5rg63z"
      },
      "outputs": [],
      "source": [
        "import warnings\n",
        "warnings.filterwarnings('ignore')"
      ]
    },
    {
      "cell_type": "code",
      "execution_count": null,
      "metadata": {
        "id": "MTLPko22g9iU"
      },
      "outputs": [],
      "source": [
        "from qiskit import *\n",
        "from qiskit import QuantumCircuit\n",
        "from qiskit.visualization import plot_state_qsphere, plot_histogram, plot_bloch_multivector, array_to_latex\n",
        "from qiskit_aer import AerSimulator\n",
        "\n",
        "#from qiskit_ibm_runtime import QiskitRuntimeService\n",
        "#from qiskit_ibm_provider.job import job_monitor\n",
        "from qiskit.transpiler.preset_passmanagers import generate_preset_pass_manager\n",
        "from qiskit import transpile\n",
        "import time\n",
        "\n",
        "import numpy as np\n",
        "from qiskit.quantum_info import random_statevector\n",
        "from qiskit.circuit.library import Initialize\n",
        "from qiskit.result import marginal_counts\n",
        "\n",
        "from qiskit_aer.noise import NoiseModel, pauli_error\n",
        "from qiskit.ignis.mitigation.measurement import complete_meas_cal, CompleteMeasFitter"
      ]
    },
    {
      "cell_type": "markdown",
      "metadata": {
        "id": "6_nbCnsnhFTK"
      },
      "source": [
        "## Measurement Error Mitigation"
      ]
    },
    {
      "cell_type": "markdown",
      "metadata": {
        "id": "eqc8OebXJSx1"
      },
      "source": [
        "### Noice Model Function"
      ]
    },
    {
      "cell_type": "code",
      "execution_count": null,
      "metadata": {
        "id": "2T5DspDGhK5U"
      },
      "outputs": [],
      "source": [
        "def get_noise(p):\n",
        "  error_message = pauli_error([('X', p), ('I', 1-p)])\n",
        "\n",
        "  noise_model = NoiseModel()\n",
        "\n",
        "  #apply measurement error to noise model\n",
        "  noise_model.add_all_qubit_quantum_error(error_message, \"measure\")\n",
        "\n",
        "  return noise_model"
      ]
    },
    {
      "cell_type": "markdown",
      "metadata": {
        "id": "95UrC3mCKMz0"
      },
      "source": [
        "### Create Noise Model"
      ]
    },
    {
      "cell_type": "code",
      "execution_count": null,
      "metadata": {
        "id": "rbTN3LPhJRbG"
      },
      "outputs": [],
      "source": [
        "# 1% chance of happening measurement error\n",
        "noise_model = get_noise(0.01)"
      ]
    },
    {
      "cell_type": "markdown",
      "metadata": {
        "id": "GclfIwwmKlKU"
      },
      "source": [
        "### Effect of Noise Model\n",
        "00 01 10 11"
      ]
    },
    {
      "cell_type": "code",
      "execution_count": null,
      "metadata": {
        "colab": {
          "base_uri": "https://localhost:8080/"
        },
        "id": "vkPlDzaaKofs",
        "outputId": "bf26c54b-86be-447a-e52b-2e3e027d281b"
      },
      "outputs": [
        {
          "name": "stdout",
          "output_type": "stream",
          "text": [
            "00 become {'00': 10000}\n",
            "01 become {'01': 10000}\n",
            "10 become {'10': 10000}\n",
            "11 become {'11': 10000}\n"
          ]
        }
      ],
      "source": [
        "all_state = ['00', '01', '10', '11']\n",
        "\n",
        "for state in all_state:\n",
        "  qc = QuantumCircuit(2,2)\n",
        "\n",
        "  if state[0] == '1':\n",
        "    qc.x(1)\n",
        "  if state[1] == '1':\n",
        "    qc.x(0)\n",
        "\n",
        "  qc.measure([0, 1], [0, 1])\n",
        "\n",
        "  simulator = AerSimulator()\n",
        "  t_tc = transpile(qc, simulator)\n",
        "\n",
        "  job = simulator.run(t_tc, shots=10000, noise_model=None)\n",
        "  result = job.result()\n",
        "  counts = result.get_counts()\n",
        "\n",
        "  print(state + ' become', counts)"
      ]
    },
    {
      "cell_type": "markdown",
      "metadata": {
        "id": "IIZfIaE6MltE"
      },
      "source": [
        "### Run with Noise"
      ]
    },
    {
      "cell_type": "code",
      "execution_count": null,
      "metadata": {
        "colab": {
          "base_uri": "https://localhost:8080/"
        },
        "id": "QjVQ7EMBMm0T",
        "outputId": "d9142db0-7e80-4248-f2c2-885091c9ec30"
      },
      "outputs": [
        {
          "name": "stdout",
          "output_type": "stream",
          "text": [
            "00 become {'01': 106, '10': 92, '00': 9802}\n",
            "01 become {'11': 111, '10': 2, '00': 97, '01': 9790}\n",
            "10 become {'01': 2, '11': 106, '00': 86, '10': 9806}\n",
            "11 become {'00': 1, '10': 108, '01': 99, '11': 9792}\n"
          ]
        }
      ],
      "source": [
        "all_state = ['00', '01', '10', '11']\n",
        "\n",
        "for state in all_state:\n",
        "  qc = QuantumCircuit(2,2)\n",
        "\n",
        "  if state[0] == '1':\n",
        "    qc.x(1)\n",
        "  if state[1] == '1':\n",
        "    qc.x(0)\n",
        "\n",
        "  qc.measure([0, 1], [0, 1])\n",
        "\n",
        "  simulator = AerSimulator()\n",
        "  t_tc = transpile(qc, simulator)\n",
        "\n",
        "  job = simulator.run(t_tc, shots=10000, noise_model=noise_model)\n",
        "  result = job.result()\n",
        "  counts = result.get_counts()\n",
        "\n",
        "  print(state + ' become', counts)"
      ]
    },
    {
      "cell_type": "markdown",
      "metadata": {
        "id": "lov2fBWcNCDK"
      },
      "source": [
        "## 2 Qubits Circuit\n",
        "Create general state / complex state with 2 qubits circuit and run it in noise"
      ]
    },
    {
      "cell_type": "markdown",
      "metadata": {
        "id": "YUl0NqGqNOCa"
      },
      "source": [
        "### Build Circuit"
      ]
    },
    {
      "cell_type": "code",
      "execution_count": null,
      "metadata": {
        "colab": {
          "base_uri": "https://localhost:8080/"
        },
        "id": "jReODrWgNJBq",
        "outputId": "b62bbfb4-f230-44de-e0cd-5dd117906d02"
      },
      "outputs": [
        {
          "name": "stdout",
          "output_type": "stream",
          "text": [
            "11 become {'01': 109, '10': 102, '00': 4876, '11': 4913}\n"
          ]
        }
      ],
      "source": [
        "# create circuit\n",
        "qc = QuantumCircuit(2, 2)\n",
        "\n",
        "# apply gates\n",
        "qc.h(0)\n",
        "qc.cx(0, 1)\n",
        "\n",
        "# apply measurement\n",
        "qc.measure([0, 1], [0, 1])\n",
        "\n",
        "simulator = AerSimulator()\n",
        "t_tc = transpile(qc, simulator)\n",
        "\n",
        "job = simulator.run(t_tc, shots=10000, noise_model=noise_model)\n",
        "result = job.result()\n",
        "counts = result.get_counts()\n",
        "print(state + ' become', counts)"
      ]
    },
    {
      "cell_type": "markdown",
      "metadata": {
        "id": "KrMNhRdZN61i"
      },
      "source": [
        "## Error Mitigation in QisKit"
      ]
    },
    {
      "cell_type": "markdown",
      "metadata": {
        "id": "_4EuPV-2PoB4"
      },
      "source": [
        "### Creating Calibration Circuit"
      ]
    },
    {
      "cell_type": "code",
      "execution_count": null,
      "metadata": {
        "id": "-RbxosrSOm9K"
      },
      "outputs": [],
      "source": [
        "qr = QuantumRegister(2)\n",
        "meas_calibs, state_labels = complete_meas_cal(qr=qr, circlabel='mcal')"
      ]
    },
    {
      "cell_type": "markdown",
      "metadata": {
        "id": "Nh3xeVSRSlpp"
      },
      "source": [
        "### Visualize Calibration Circuit"
      ]
    },
    {
      "cell_type": "code",
      "execution_count": null,
      "metadata": {
        "colab": {
          "base_uri": "https://localhost:8080/"
        },
        "id": "nGdTNqfKSqg-",
        "outputId": "6b6d9ff3-4601-4d45-9666-175d68294448"
      },
      "outputs": [
        {
          "name": "stdout",
          "output_type": "stream",
          "text": [
            "Circuit mcalcal_00\n",
            "        ░ ┌─┐   \n",
            "q18_0: ─░─┤M├───\n",
            "        ░ └╥┘┌─┐\n",
            "q18_1: ─░──╫─┤M├\n",
            "        ░  ║ └╥┘\n",
            " c0: 2/════╩══╩═\n",
            "           0  1 \n",
            "\n",
            "Circuit mcalcal_01\n",
            "       ┌───┐ ░ ┌─┐   \n",
            "q18_0: ┤ X ├─░─┤M├───\n",
            "       └───┘ ░ └╥┘┌─┐\n",
            "q18_1: ──────░──╫─┤M├\n",
            "             ░  ║ └╥┘\n",
            " c0: 2/═════════╩══╩═\n",
            "                0  1 \n",
            "\n",
            "Circuit mcalcal_10\n",
            "             ░ ┌─┐   \n",
            "q18_0: ──────░─┤M├───\n",
            "       ┌───┐ ░ └╥┘┌─┐\n",
            "q18_1: ┤ X ├─░──╫─┤M├\n",
            "       └───┘ ░  ║ └╥┘\n",
            " c0: 2/═════════╩══╩═\n",
            "                0  1 \n",
            "\n",
            "Circuit mcalcal_11\n",
            "       ┌───┐ ░ ┌─┐   \n",
            "q18_0: ┤ X ├─░─┤M├───\n",
            "       ├───┤ ░ └╥┘┌─┐\n",
            "q18_1: ┤ X ├─░──╫─┤M├\n",
            "       └───┘ ░  ║ └╥┘\n",
            " c0: 2/═════════╩══╩═\n",
            "                0  1 \n",
            "\n"
          ]
        }
      ],
      "source": [
        "for circuit in meas_calibs:\n",
        "  print('Circuit', circuit.name)\n",
        "  print(circuit)\n",
        "  print()"
      ]
    },
    {
      "cell_type": "markdown",
      "metadata": {
        "id": "N3u_XEmpTGK-"
      },
      "source": [
        "### Run on simulator without Noise"
      ]
    },
    {
      "cell_type": "code",
      "execution_count": null,
      "metadata": {
        "id": "2CmeFOdSTJPe"
      },
      "outputs": [],
      "source": [
        "simulator = AerSimulator()\n",
        "\n",
        "t_tc = transpile(meas_calibs, simulator)\n",
        "job = simulator.run(t_tc, shots=10000, noise_model=None)\n",
        "cal_result = job.result()"
      ]
    },
    {
      "cell_type": "markdown",
      "metadata": {
        "id": "lkYEnk1cTnHX"
      },
      "source": [
        "### Calibration matrix without noise"
      ]
    },
    {
      "cell_type": "code",
      "execution_count": null,
      "metadata": {
        "colab": {
          "base_uri": "https://localhost:8080/",
          "height": 98
        },
        "id": "MxWvFwuGTs3G",
        "outputId": "224d5f99-a9b8-482f-aa70-13547414076b"
      },
      "outputs": [
        {
          "data": {
            "text/latex": [
              "$$\n",
              "\n",
              "\\begin{bmatrix}\n",
              "1 & 0 & 0 & 0  \\\\\n",
              " 0 & 1 & 0 & 0  \\\\\n",
              " 0 & 0 & 1 & 0  \\\\\n",
              " 0 & 0 & 0 & 1  \\\\\n",
              " \\end{bmatrix}\n",
              "$$"
            ],
            "text/plain": [
              "<IPython.core.display.Latex object>"
            ]
          },
          "execution_count": 12,
          "metadata": {},
          "output_type": "execute_result"
        }
      ],
      "source": [
        "meas_fitter = CompleteMeasFitter(cal_result, state_labels, circlabel='mcal')\n",
        "array_to_latex(meas_fitter.cal_matrix)"
      ]
    },
    {
      "cell_type": "markdown",
      "metadata": {
        "id": "L7uO1EszUA8e"
      },
      "source": [
        "### Create Noise Model"
      ]
    },
    {
      "cell_type": "code",
      "execution_count": null,
      "metadata": {
        "id": "wT6KHOeJUC0-"
      },
      "outputs": [],
      "source": [
        "# 1% chance of happening measurement error\n",
        "noise_model = get_noise(0.01)"
      ]
    },
    {
      "cell_type": "markdown",
      "metadata": {
        "id": "XNMuGrTAUNwk"
      },
      "source": [
        "### Run calibration circuit with Noise"
      ]
    },
    {
      "cell_type": "code",
      "execution_count": null,
      "metadata": {
        "id": "MXoj_mqCUQYV"
      },
      "outputs": [],
      "source": [
        "simulator = AerSimulator()\n",
        "\n",
        "t_tc = transpile(meas_calibs, simulator)\n",
        "job = simulator.run(t_tc, shots=10000, noise_model=noise_model)\n",
        "cal_result = job.result()"
      ]
    },
    {
      "cell_type": "markdown",
      "metadata": {
        "id": "OA-XTJUqUfpF"
      },
      "source": [
        "### Calibration Matrix with Noise"
      ]
    },
    {
      "cell_type": "code",
      "execution_count": null,
      "metadata": {
        "colab": {
          "base_uri": "https://localhost:8080/",
          "height": 105
        },
        "id": "0D337mpOUkC9",
        "outputId": "c0b733b1-85b3-41f3-b94a-cd084fbe5e8a"
      },
      "outputs": [
        {
          "data": {
            "text/latex": [
              "$$\n",
              "\n",
              "\\begin{bmatrix}\n",
              "0.978 & 0.0103 & 0.0111 & 0.0001  \\\\\n",
              " 0.0109 & \\frac{2^{\\frac{58}{61}} \\cdot 3^{\\frac{639}{976}} \\cdot 5^{\\frac{335}{976}} \\cdot 7^{\\frac{43}{122}}}{14} & 0 & 0.0108  \\\\\n",
              " 0.0111 & 0 & 0.9798 & 0.009  \\\\\n",
              " 0 & 0.0119 & 0.0091 & 0.9801  \\\\\n",
              " \\end{bmatrix}\n",
              "$$"
            ],
            "text/plain": [
              "<IPython.core.display.Latex object>"
            ]
          },
          "execution_count": 23,
          "metadata": {},
          "output_type": "execute_result"
        }
      ],
      "source": [
        "meas_fitter = CompleteMeasFitter(cal_result, state_labels, circlabel='mcal')\n",
        "array_to_latex(meas_fitter.cal_matrix)"
      ]
    },
    {
      "cell_type": "markdown",
      "metadata": {
        "id": "We2LDQFLUqok"
      },
      "source": [
        "## Now create arbitary more general circuit and get noisy result from it with noise model"
      ]
    },
    {
      "cell_type": "code",
      "execution_count": null,
      "metadata": {
        "colab": {
          "base_uri": "https://localhost:8080/",
          "height": 461
        },
        "id": "Dx6_s1X0UynE",
        "outputId": "70fca793-eecf-48ca-c82e-9606d8c70a33"
      },
      "outputs": [
        {
          "data": {
            "image/png": "[encoded data removed]",
            "text/plain": [
              "<Figure size 700x500 with 1 Axes>"
            ]
          },
          "execution_count": 16,
          "metadata": {},
          "output_type": "execute_result"
        }
      ],
      "source": [
        "general_circuit = QuantumCircuit(2, 2)\n",
        "general_circuit.h(0)\n",
        "general_circuit.cx(0, 1)\n",
        "general_circuit.measure([0, 1], [0, 1])\n",
        "\n",
        "simulator = AerSimulator()\n",
        "\n",
        "t_tc = transpile(general_circuit, simulator)\n",
        "job = simulator.run(t_tc, shots=10000, noise_model=noise_model)\n",
        "noisy_results = job.result()\n",
        "noisy_counts = noisy_results.get_counts()\n",
        "plot_histogram(noisy_counts)"
      ]
    },
    {
      "cell_type": "markdown",
      "metadata": {
        "id": "5i1V3L1WVtGT"
      },
      "source": [
        "### Mitigate Noise for this circuit with the help of measurement fitter created from noisy calibration circuit"
      ]
    },
    {
      "cell_type": "code",
      "execution_count": null,
      "metadata": {
        "id": "AUnMJvUOV4zs"
      },
      "outputs": [],
      "source": [
        "# get the fitter object\n",
        "meas_fitter = meas_fitter.filter\n",
        "\n",
        "# results with mitigation\n",
        "mitigated_results = meas_fitter.apply(noisy_results)\n",
        "mitigated_counts = mitigated_results.get_counts()"
      ]
    },
    {
      "cell_type": "markdown",
      "metadata": {
        "id": "llpTkyk2We-S"
      },
      "source": [
        "### plot noisy and mitigated results for the circuit"
      ]
    },
    {
      "cell_type": "code",
      "execution_count": null,
      "metadata": {
        "colab": {
          "base_uri": "https://localhost:8080/",
          "height": 461
        },
        "id": "lBtrBCWCWi86",
        "outputId": "3d7a189e-be0c-4516-853f-32bc959b9f9e"
      },
      "outputs": [
        {
          "data": {
            "image/png": "[encoded data removed]",
            "text/plain": [
              "<Figure size 700x500 with 1 Axes>"
            ]
          },
          "execution_count": 18,
          "metadata": {},
          "output_type": "execute_result"
        }
      ],
      "source": [
        "plot_histogram([noisy_counts, mitigated_counts], legend=['noisy', 'mitigated'])"
      ]
    },
    {
      "cell_type": "markdown",
      "metadata": {
        "id": "e61c-RxMXLj7"
      },
      "source": [
        "## Create another 2 qubit arbitary general circuit"
      ]
    },
    {
      "cell_type": "code",
      "execution_count": null,
      "metadata": {
        "colab": {
          "base_uri": "https://localhost:8080/",
          "height": 255
        },
        "id": "WelVugN_XQpL",
        "outputId": "2685b6d5-a9b6-4ff9-89af-2b22e32082cc"
      },
      "outputs": [
        {
          "data": {
            "image/png": "[encoded data removed]",
            "text/plain": [
              "<Figure size 774.849x284.278 with 1 Axes>"
            ]
          },
          "execution_count": 19,
          "metadata": {},
          "output_type": "execute_result"
        }
      ],
      "source": [
        "general_circuit2 = QuantumCircuit(2)\n",
        "\n",
        "general_circuit2.h(0)\n",
        "general_circuit2.cx(0, 1)\n",
        "general_circuit2.x(0)\n",
        "general_circuit2.cx(1, 0)\n",
        "\n",
        "\n",
        "general_circuit2.measure_all()\n",
        "\n",
        "general_circuit2.draw(initial_state=True, output='mpl')"
      ]
    },
    {
      "cell_type": "markdown",
      "metadata": {
        "id": "gY2uHRqFX0Yj"
      },
      "source": [
        "### Run on simulator"
      ]
    },
    {
      "cell_type": "code",
      "execution_count": null,
      "metadata": {
        "colab": {
          "base_uri": "https://localhost:8080/",
          "height": 461
        },
        "id": "-rmQUMGsXwzr",
        "outputId": "6d56ba94-0d6e-492e-bca3-eb55c9d14d4a"
      },
      "outputs": [
        {
          "data": {
            "image/png": "[encoded data removed]",
            "text/plain": [
              "<Figure size 700x500 with 1 Axes>"
            ]
          },
          "execution_count": 20,
          "metadata": {},
          "output_type": "execute_result"
        }
      ],
      "source": [
        "simulator = AerSimulator()\n",
        "\n",
        "t_tc = transpile(general_circuit2, simulator)\n",
        "job = simulator.run(t_tc, shots=10000, noise_model=None)\n",
        "results = job.result()\n",
        "counts = results.get_counts()\n",
        "plot_histogram(counts)"
      ]
    },
    {
      "cell_type": "markdown",
      "metadata": {
        "id": "VoU0IKx7ZJIG"
      },
      "source": [
        "### Run on simulator with noise"
      ]
    },
    {
      "cell_type": "code",
      "execution_count": null,
      "metadata": {
        "colab": {
          "base_uri": "https://localhost:8080/",
          "height": 461
        },
        "id": "Nwbc6mz3ZNYt",
        "outputId": "dd54ad33-0162-4bbb-fad8-ce02a03b1265"
      },
      "outputs": [
        {
          "data": {
            "image/png": "[encoded data removed]",
            "text/plain": [
              "<Figure size 700x500 with 1 Axes>"
            ]
          },
          "execution_count": 21,
          "metadata": {},
          "output_type": "execute_result"
        }
      ],
      "source": [
        "simulator = AerSimulator()\n",
        "\n",
        "t_tc = transpile(general_circuit2, simulator)\n",
        "job = simulator.run(t_tc, shots=10000, noise_model=noise_model)\n",
        "noisy_results = job.result()\n",
        "noisy_counts = noisy_results.get_counts()\n",
        "plot_histogram(noisy_counts)"
      ]
    },
    {
      "cell_type": "markdown",
      "metadata": {
        "id": "Au_y6gu8ZWAa"
      },
      "source": [
        "### Mitigate noise for this circuit"
      ]
    },
    {
      "cell_type": "code",
      "execution_count": null,
      "metadata": {
        "id": "rZ8K9AmkZZ2J"
      },
      "outputs": [],
      "source": [
        "# get the fitter object\n",
        "meas_fitter = meas_fitter.filter\n",
        "\n",
        "# results with mitigation\n",
        "mitigated_results = meas_fitter.apply(noisy_results)\n",
        "mitigated_counts = mitigated_results.get_counts()"
      ]
    },
    {
      "cell_type": "markdown",
      "metadata": {
        "id": "6cEf3-PDZjYa"
      },
      "source": [
        "### plot noisy and mitigated results for the circuit"
      ]
    },
    {
      "cell_type": "code",
      "execution_count": null,
      "metadata": {
        "colab": {
          "base_uri": "https://localhost:8080/",
          "height": 461
        },
        "id": "8OmiT1f8ZjYa",
        "outputId": "ca9bde2f-46c9-47a0-a9ad-f27c4876fb9a"
      },
      "outputs": [
        {
          "data": {
            "image/png": "[encoded data removed]",
            "text/plain": [
              "<Figure size 700x500 with 1 Axes>"
            ]
          },
          "execution_count": 25,
          "metadata": {},
          "output_type": "execute_result"
        }
      ],
      "source": [
        "plot_histogram([noisy_counts, mitigated_counts], legend=['noisy', 'mitigated'])"
      ]
    },
    {
      "cell_type": "markdown",
      "metadata": {
        "id": "RcxtA_h1bG3J"
      },
      "source": [
        "# <center><font size=\"50\" color=\"red\">Thank You</font></center>"
      ]
    }
  ],
  "metadata": {
    "colab": {
      "authorship_tag": "ABX9TyPEEfl6ME5VHKIBbissJwsX",
      "include_colab_link": true,
      "provenance": [],
      "toc_visible": true
    },
    "kernelspec": {
      "display_name": "Python 3",
      "name": "python3"
    },
    "language_info": {
      "name": "python"
    }
  },
  "nbformat": 4,
  "nbformat_minor": 0
}
